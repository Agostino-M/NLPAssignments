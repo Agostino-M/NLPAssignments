{
 "cells": [
  {
   "cell_type": "markdown",
   "id": "f4ecba88",
   "metadata": {},
   "source": [
    "# Classificazione automatica dell'ironia nei tweet con NLP e RoBERTa"
   ]
  },
  {
   "cell_type": "markdown",
   "id": "239b1ae0",
   "metadata": {},
   "source": [
    "## Introduzione\n",
    "\n",
    "In questo notebook affrontiamo il compito di classificazione automatica dell'ironia nei tweet, utilizzando tecniche di Natural Language Processing (NLP) e modelli di Machine Learning avanzati.\n",
    "\n",
    "Il task è stato progettato in una serie di step:\n",
    "\n",
    "- Analisi esplorativa e pulizia del dataset fornito;\n",
    "- Preprocessing del testo (gestione di emoji, emoticons, hashtag, menzioni, ecc.);\n",
    "- Data augmentation per migliorare la generalizzazione del modello;\n",
    "- Addestramento di un modello di classificazione basato su RoBERTa;\n",
    "- Valutazione delle performance tramite metriche standard (accuracy, F1-score, confusion matrix);\n",
    "- Generazione delle predizioni finali sui dati di test.\n",
    "\n",
    "L'obiettivo è costruire una pipeline completa e riproducibile, ottimizzando le prestazioni del modello e documentando ogni fase del processo."
   ]
  },
  {
   "cell_type": "code",
   "execution_count": 1,
   "id": "5dc3dc0c",
   "metadata": {},
   "outputs": [
    {
     "name": "stderr",
     "output_type": "stream",
     "text": [
      "c:\\Users\\conti\\AppData\\Local\\Programs\\Python\\Python310\\lib\\site-packages\\tqdm\\auto.py:21: TqdmWarning: IProgress not found. Please update jupyter and ipywidgets. See https://ipywidgets.readthedocs.io/en/stable/user_install.html\n",
      "  from .autonotebook import tqdm as notebook_tqdm\n",
      "[nltk_data] Downloading package wordnet to\n",
      "[nltk_data]     C:\\Users\\conti\\AppData\\Roaming\\nltk_data...\n",
      "[nltk_data]   Package wordnet is already up-to-date!\n"
     ]
    }
   ],
   "source": [
    "# Import di base\n",
    "import numpy as np\n",
    "import pandas as pd\n",
    "import re\n",
    "import random\n",
    "\n",
    "# Visualizzazione e analisi\n",
    "import matplotlib.pyplot as plt\n",
    "import seaborn as sns\n",
    "\n",
    "# Progress bar\n",
    "from tqdm import tqdm\n",
    "\n",
    "# Dataset e NLP\n",
    "from datasets import Dataset\n",
    "from sklearn.feature_extraction.text import CountVectorizer\n",
    "from sklearn.metrics import confusion_matrix, f1_score\n",
    "\n",
    "# Preprocessing testo\n",
    "import wordsegment as ws\n",
    "import emot\n",
    "\n",
    "# NLP avanzato\n",
    "import nltk\n",
    "from nltk.corpus import wordnet\n",
    "\n",
    "# ML e deep learning\n",
    "import torch\n",
    "import torch.nn as nn\n",
    "from torch.optim import AdamW\n",
    "from torch.utils.data import DataLoader\n",
    "from transformers import AutoModel, AutoTokenizer\n",
    "\n",
    "# Utility PyTorch\n",
    "from torchinfo import summary\n",
    "\n",
    "# Impostazioni pandas\n",
    "pd.set_option('display.max_colwidth', None)\n",
    "\n",
    "# Download risorse e inizializzazioni\n",
    "nltk.download('wordnet')\n",
    "ws.load()\n",
    "emot_obj = emot.core.emot()\n"
   ]
  },
  {
   "cell_type": "markdown",
   "id": "76bd66c3",
   "metadata": {},
   "source": [
    "# Import del dataset\n",
    "\n",
    "Il dataset fornito è composto dai seguenti file:\n",
    "\n",
    "- `train_text.txt`: contiene i tweet per l'addestramento;\n",
    "- `train_labels.txt`: contiene le labels dei tweet per l'addestramento;\n",
    "- `val_text.txt`: contiene i tweet per la validazione;\n",
    "- `val_labels.txt`: contiene le labels dei tweet per la validazione;\n",
    "- `test_text.txt`: contiene i tweet di test da cui ricavare le predizioni;\n",
    "- `mapping.txt`: contiene i tipi di labels del dataset"
   ]
  },
  {
   "cell_type": "markdown",
   "id": "880e7e56",
   "metadata": {},
   "source": [
    "Per la creazione dei dataframe, creiamo due colonne: `text` (contenente i tweet) e, solo per quanto concerne train e validation, `label` (contenente le etichette)."
   ]
  },
  {
   "cell_type": "code",
   "execution_count": 2,
   "id": "1246515e",
   "metadata": {},
   "outputs": [
    {
     "data": {
      "text/html": [
       "<div>\n",
       "<style scoped>\n",
       "    .dataframe tbody tr th:only-of-type {\n",
       "        vertical-align: middle;\n",
       "    }\n",
       "\n",
       "    .dataframe tbody tr th {\n",
       "        vertical-align: top;\n",
       "    }\n",
       "\n",
       "    .dataframe thead th {\n",
       "        text-align: right;\n",
       "    }\n",
       "</style>\n",
       "<table border=\"1\" class=\"dataframe\">\n",
       "  <thead>\n",
       "    <tr style=\"text-align: right;\">\n",
       "      <th></th>\n",
       "      <th>text</th>\n",
       "      <th>label</th>\n",
       "    </tr>\n",
       "  </thead>\n",
       "  <tbody>\n",
       "    <tr>\n",
       "      <th>0</th>\n",
       "      <td>seeing ppl walking w/ crutches makes me really excited for the next 3 weeks of my life</td>\n",
       "      <td>1</td>\n",
       "    </tr>\n",
       "    <tr>\n",
       "      <th>1</th>\n",
       "      <td>look for the girl with the broken smile, ask her if she wants to stay while, and she will be loved. 💕🎵</td>\n",
       "      <td>0</td>\n",
       "    </tr>\n",
       "    <tr>\n",
       "      <th>2</th>\n",
       "      <td>Now I remember why I buy books online @user #servicewithasmile</td>\n",
       "      <td>1</td>\n",
       "    </tr>\n",
       "    <tr>\n",
       "      <th>3</th>\n",
       "      <td>@user @user So is he banded from wearing the clothes?  #Karma</td>\n",
       "      <td>1</td>\n",
       "    </tr>\n",
       "    <tr>\n",
       "      <th>4</th>\n",
       "      <td>Just found out there are Etch A Sketch apps.  #oldschool #notoldschool</td>\n",
       "      <td>1</td>\n",
       "    </tr>\n",
       "    <tr>\n",
       "      <th>...</th>\n",
       "      <td>...</td>\n",
       "      <td>...</td>\n",
       "    </tr>\n",
       "    <tr>\n",
       "      <th>2857</th>\n",
       "      <td>I don't have to respect your beliefs.||I only have to respect your RIGHT to have them. ||#atheist #atheism</td>\n",
       "      <td>0</td>\n",
       "    </tr>\n",
       "    <tr>\n",
       "      <th>2858</th>\n",
       "      <td>Women getting hit on by married managers at @user cracks me up  #Hypocrites #practicewhatyoupreach</td>\n",
       "      <td>1</td>\n",
       "    </tr>\n",
       "    <tr>\n",
       "      <th>2859</th>\n",
       "      <td>@user no but i followed you and i saw you posted that so i thot i might add on.....sorry</td>\n",
       "      <td>0</td>\n",
       "    </tr>\n",
       "    <tr>\n",
       "      <th>2860</th>\n",
       "      <td>@user I dont know what it is but I'm in love your products Christmas heaven! #love #skincare #beauty 👍💚🛀.</td>\n",
       "      <td>0</td>\n",
       "    </tr>\n",
       "    <tr>\n",
       "      <th>2861</th>\n",
       "      <td>@user @user @user For having union representation for decades, teachers' pay still sucks and is shorted by dues.</td>\n",
       "      <td>1</td>\n",
       "    </tr>\n",
       "  </tbody>\n",
       "</table>\n",
       "<p>2862 rows × 2 columns</p>\n",
       "</div>"
      ],
      "text/plain": [
       "                                                                                                                  text  \\\n",
       "0                               seeing ppl walking w/ crutches makes me really excited for the next 3 weeks of my life   \n",
       "1               look for the girl with the broken smile, ask her if she wants to stay while, and she will be loved. 💕🎵   \n",
       "2                                                       Now I remember why I buy books online @user #servicewithasmile   \n",
       "3                                                        @user @user So is he banded from wearing the clothes?  #Karma   \n",
       "4                                               Just found out there are Etch A Sketch apps.  #oldschool #notoldschool   \n",
       "...                                                                                                                ...   \n",
       "2857        I don't have to respect your beliefs.||I only have to respect your RIGHT to have them. ||#atheist #atheism   \n",
       "2858                Women getting hit on by married managers at @user cracks me up  #Hypocrites #practicewhatyoupreach   \n",
       "2859                          @user no but i followed you and i saw you posted that so i thot i might add on.....sorry   \n",
       "2860         @user I dont know what it is but I'm in love your products Christmas heaven! #love #skincare #beauty 👍💚🛀.   \n",
       "2861  @user @user @user For having union representation for decades, teachers' pay still sucks and is shorted by dues.   \n",
       "\n",
       "      label  \n",
       "0         1  \n",
       "1         0  \n",
       "2         1  \n",
       "3         1  \n",
       "4         1  \n",
       "...     ...  \n",
       "2857      0  \n",
       "2858      1  \n",
       "2859      0  \n",
       "2860      0  \n",
       "2861      1  \n",
       "\n",
       "[2862 rows x 2 columns]"
      ]
     },
     "execution_count": 2,
     "metadata": {},
     "output_type": "execute_result"
    }
   ],
   "source": [
    "train_text_path = \"irony/train_text.txt\"\n",
    "train_labels_path = \"irony/train_labels.txt\"\n",
    "val_text_path = \"irony/val_text.txt\"\n",
    "val_labels_path = \"irony/val_labels.txt\"\n",
    "test_text_path = \"irony/test_text.txt\"\n",
    "mapping_path = \"irony/mapping.txt\"\n",
    "\n",
    "# Carichiamo i tweet dai file di testo\n",
    "with open(train_text_path, \"r\", encoding=\"utf-8\") as f:\n",
    "    train_lines = [line.strip() for line in f] \n",
    "with open(val_text_path, \"r\", encoding=\"utf-8\") as f:\n",
    "    val_lines = [line.strip() for line in f] \n",
    "with open(test_text_path, \"r\", encoding=\"utf-8\") as f:\n",
    "    test_lines = [line.strip() for line in f] \n",
    "\n",
    "df_train = pd.DataFrame(train_lines, columns=[\"text\"])\n",
    "df_val = pd.DataFrame(val_lines, columns=[\"text\"])\n",
    "df_test = pd.DataFrame(test_lines, columns=[\"text\"])\n",
    "\n",
    "# SOLO PER TRAIN E VALIDATION, aggiungiamo la colonna label\n",
    "df_train['label'] = pd.read_csv(train_labels_path, header=None, dtype=int)\n",
    "df_val['label'] = pd.read_csv(val_labels_path, header=None, dtype=int)\n",
    "\n",
    "# Stampiamo il dataset di train\n",
    "df_train"
   ]
  },
  {
   "cell_type": "markdown",
   "id": "0f050287",
   "metadata": {},
   "source": [
    "Il nostro dataset si presenta attualmente nella forma più grezza possibile:\n",
    "\n",
    "- Testo con emoticons, emoji, hashtags e menzioni;\n",
    "- Etichetta numerica associata.\n",
    "\n",
    "Carichiamo anche il file di mapping per vedere la mappatura delle classi."
   ]
  },
  {
   "cell_type": "code",
   "execution_count": 3,
   "id": "d7235ff1",
   "metadata": {},
   "outputs": [
    {
     "name": "stdout",
     "output_type": "stream",
     "text": [
      "Numero di classi: 2\n",
      "{0: 'non_irony', 1: 'irony'}\n"
     ]
    }
   ],
   "source": [
    "# Creiamo un dizionario per mappare i numeri delle classi con le etichette\n",
    "labels = {}\n",
    "\n",
    "# Carichiamo il file di mapping\n",
    "with open(mapping_path, \"r\", encoding=\"utf-8\") as f:\n",
    "    for line in f:\n",
    "        key, value = line.strip().split()\n",
    "        labels[int(key)] = value\n",
    "\n",
    "print(f\"Numero di classi: {len(labels)}\")\n",
    "print(labels)"
   ]
  },
  {
   "cell_type": "markdown",
   "id": "790faba9",
   "metadata": {},
   "source": [
    "# Analisi dei dati"
   ]
  },
  {
   "cell_type": "markdown",
   "id": "0636cb40",
   "metadata": {},
   "source": [
    "### Valori NaN"
   ]
  },
  {
   "cell_type": "code",
   "execution_count": 4,
   "id": "c65f5d2c",
   "metadata": {},
   "outputs": [
    {
     "name": "stdout",
     "output_type": "stream",
     "text": [
      "Nan train set:\n",
      "text     0\n",
      "label    0\n",
      "dtype: int64\n",
      "\n",
      "Nan validation set:\n",
      "text     0\n",
      "label    0\n",
      "dtype: int64\n",
      "\n",
      "Nan test set:\n",
      "text    0\n",
      "dtype: int64\n"
     ]
    }
   ],
   "source": [
    "# Verifichiamo l'eventuale presenza di valori NaN\n",
    "print(\"Nan train set:\")\n",
    "print(df_train.isna().sum())\n",
    "print(\"\\nNan validation set:\")\n",
    "print(df_val.isna().sum())\n",
    "print(\"\\nNan test set:\")\n",
    "print(df_test.isna().sum())"
   ]
  },
  {
   "cell_type": "markdown",
   "id": "da7aedae",
   "metadata": {},
   "source": [
    "In questo caso siamo fortunati in quanto non ve ne sono, quindi possiamo procedere col resto dell'analisi senza eliminare nulla."
   ]
  },
  {
   "cell_type": "markdown",
   "id": "8a05b175",
   "metadata": {},
   "source": [
    "### Distribuzione delle classi"
   ]
  },
  {
   "cell_type": "code",
   "execution_count": 5,
   "id": "fd38e668",
   "metadata": {},
   "outputs": [
    {
     "data": {
      "image/png": "[encoded data removed]",
      "text/plain": [
       "<Figure size 1400x600 with 2 Axes>"
      ]
     },
     "metadata": {},
     "output_type": "display_data"
    },
    {
     "name": "stdout",
     "output_type": "stream",
     "text": [
      "Distribuzione delle classi nel dataset di train:\n",
      "label\n",
      "1    0.504892\n",
      "0    0.495108\n",
      "Name: proportion, dtype: float64\n",
      "\n",
      "Distribuzione delle classi nel dataset di validation:\n",
      "label\n",
      "0    0.522513\n",
      "1    0.477487\n",
      "Name: proportion, dtype: float64\n"
     ]
    }
   ],
   "source": [
    "fig, axes = plt.subplots(1, 2, figsize=(14, 6))\n",
    "\n",
    "# Distribuzione delle classi nel dataset di train\n",
    "sns.countplot(ax=axes[0], x=df_train['label'], hue=df_train['label'], legend=False, palette=\"pastel\")\n",
    "axes[0].set_title(\"Distribuzione delle classi - Train\")\n",
    "axes[0].set_xlabel(\"Classe\")\n",
    "axes[0].set_ylabel(\"Numero di tweet\")\n",
    "axes[0].set_xticks([0, 1])\n",
    "axes[0].set_xticklabels([\"Non Irony\", \"Irony\"])\n",
    "\n",
    "# Distribuzione delle classi nel dataset di validation\n",
    "sns.countplot(ax=axes[1], x=df_val['label'], hue=df_val['label'], legend=False, palette=\"pastel\")\n",
    "axes[1].set_title(\"Distribuzione delle classi - Validation\")\n",
    "axes[1].set_xlabel(\"Classe\")\n",
    "axes[1].set_ylabel(\"Numero di tweet\")\n",
    "axes[1].set_xticks([0, 1])\n",
    "axes[1].set_xticklabels([\"Non Irony\", \"Irony\"])\n",
    "\n",
    "plt.tight_layout()\n",
    "plt.show()\n",
    "\n",
    "print(\"Distribuzione delle classi nel dataset di train:\")\n",
    "print(df_train[\"label\"].value_counts(normalize=True))\n",
    "print(\"\")\n",
    "print(\"Distribuzione delle classi nel dataset di validation:\")\n",
    "print(df_val[\"label\"].value_counts(normalize=True))"
   ]
  },
  {
   "cell_type": "markdown",
   "id": "906f623c",
   "metadata": {},
   "source": [
    "### Parole frequenti"
   ]
  },
  {
   "cell_type": "code",
   "execution_count": 6,
   "id": "c7663b2d",
   "metadata": {},
   "outputs": [],
   "source": [
    "def plot_frequent_words(texts, title, max_features=20):\n",
    "    \"\"\"Funzione per visualizzare le parole più frequenti in un dataset di testi.\n",
    "    Args:\n",
    "        texts (list of str): Lista di testi (tweet).\n",
    "        title (str): Titolo del grafico.\n",
    "        max_features (int): Numero massimo di parole da visualizzare.\n",
    "    \"\"\"\n",
    "\n",
    "    # Creiamo il vettorizzatore (bag-of-words)\n",
    "    vectorizer = CountVectorizer(max_features=max_features, stop_words=\"english\")\n",
    "    word_counts = vectorizer.fit_transform(texts)  # Applica il conteggio delle parole\n",
    "\n",
    "    # Sommiamo le frequenze globali\n",
    "    word_sums = word_counts.sum(axis=0).A1\n",
    "    words = vectorizer.get_feature_names_out()\n",
    "\n",
    "    # Ordiniamo per frequenza\n",
    "    sorted_idx = np.argsort(word_sums)[::-1]  # indici in ordine decrescente\n",
    "    word_sums = word_sums[sorted_idx]\n",
    "    words = words[sorted_idx]\n",
    "\n",
    "    # Creiamo un grafico per visualizzare le parole più frequenti\n",
    "    plt.figure(figsize=(10, 5))\n",
    "    sns.barplot(x=word_sums, y=words)\n",
    "    plt.title(title)\n",
    "    plt.xlabel(\"Frequenza\")\n",
    "    plt.ylabel(\"Parole\")\n",
    "    plt.show()"
   ]
  },
  {
   "cell_type": "code",
   "execution_count": 7,
   "id": "2a8df29c",
   "metadata": {},
   "outputs": [
    {
     "data": {
      "image/png": "[encoded data removed]",
      "text/plain": [
       "<Figure size 1000x500 with 1 Axes>"
      ]
     },
     "metadata": {},
     "output_type": "display_data"
    }
   ],
   "source": [
    "# Plottiamo le parole frequenti nei tweet ironici\n",
    "plot_frequent_words(df_train[df_train['label'] == 1]['text'], \"Parole Frequenti nei Tweet Ironici\")"
   ]
  },
  {
   "cell_type": "code",
   "execution_count": 8,
   "id": "67a55fa4",
   "metadata": {},
   "outputs": [
    {
     "data": {
      "image/png": "[encoded data removed]",
      "text/plain": [
       "<Figure size 1000x500 with 1 Axes>"
      ]
     },
     "metadata": {},
     "output_type": "display_data"
    }
   ],
   "source": [
    "# Plottiamo le parole frequenti nei tweet non ironici\n",
    "plot_frequent_words(df_train[df_train['label'] == 0]['text'], \"Parole Frequenti nei Tweet Non Ironici\")"
   ]
  },
  {
   "cell_type": "markdown",
   "id": "1d9372a7",
   "metadata": {},
   "source": [
    "Possiamo notare una prevalenza della parola `user` in entrambi i casi, la quale tuttavia sarà rimossa in fase di pre-processing in quanto corrispondente ad una menzione. Aldilà di queste, non vi è una vera e propria parola dominante che possa favorire una classe rispetto ad un'altra in un determinato tweet."
   ]
  },
  {
   "cell_type": "markdown",
   "id": "4c6ad4f2",
   "metadata": {},
   "source": [
    "# Preprocessing dei dati"
   ]
  },
  {
   "cell_type": "code",
   "execution_count": 9,
   "id": "6eb963a9",
   "metadata": {},
   "outputs": [],
   "source": [
    "def sanitize_text(txt: str) -> str:\n",
    "    \"\"\"Pulisce il testo rimuovendo caratteri speciali e spazi multipli.\"\"\"\n",
    "    # Sostituiamo i caratteri di nuova linea, tabulazione e ritorno a capo con uno spazio\n",
    "    txt = txt.replace(\"\\\\n\", \" \").replace(\"\\\\t\", \" \").replace(\"\\\\r\", \" \")\n",
    "    txt = re.sub(r\"[\\n\\t\\r]+\", \" \", txt)\n",
    "    # Rimuoviamo spazi multipli e strip finale\n",
    "    return re.sub(r\"\\s+\", \" \", txt).strip()\n",
    "\n",
    "def convert_emoticons_to_text(text):\n",
    "    \"\"\"Converte le emoticons in testo.\"\"\"\n",
    "    emoticons = emot_obj.emoticons(text)['value']\n",
    "    for emoticon in emoticons:\n",
    "        # Sostituiamo le emoticons con il loro significato\n",
    "        meaning = emot_obj.emoticons(emoticon)['mean'][0]\n",
    "        text = text.replace(emoticon, f\" {meaning} \")\n",
    "\n",
    "    return text\n",
    "\n",
    "def convert_emojis_to_text(text):\n",
    "    \"\"\"Converte le emoji in testo.\"\"\"\n",
    "    emojis = emot_obj.emoji(text)['value']\n",
    "    # Se ci sono emoji\n",
    "    if emojis:\n",
    "        for emoji in emojis:\n",
    "            if emot_obj.emoji(emoji)['mean']:\n",
    "                # Ricaviamo il significato dell'emoji\n",
    "                emoji_meaning = emot_obj.emoji(emoji)['mean'][0]\n",
    "                # Rimuoviamo i due punti e sostituisci l'underscore con uno spazio\n",
    "                emoji_meaning = emoji_meaning.replace(':', '').replace('_', ' ')\n",
    "                # Sostituiamo l'emoji con il suo significato nel testo\n",
    "                text = text.replace(emoji, f\" {emoji_meaning} \")\n",
    "\n",
    "    return text\n",
    "\n",
    "def split_hashtags(text):\n",
    "    \"\"\"Suddivide gli hashtag in parole.\"\"\"\n",
    "    # Inserisce uno spazio davanti a ogni hashtag non preceduto da spazio\n",
    "    text = re.sub(r'(?<!\\s)(#)', r' \\1', text)\n",
    "    \n",
    "    def split_hashtag(hashtag):\n",
    "        \"\"\"Segmenta un singolo hashtag in parole.\"\"\"\n",
    "        return ' '.join(ws.segment(hashtag.lstrip('#')))\n",
    "    \n",
    "    words = text.split()\n",
    "    # Creiamo una lista per le parole ripulite\n",
    "    cleaned_words = []\n",
    "    \n",
    "    for word in words:\n",
    "        # Se la parola è un hashtag, lo splittiamo, altrimenti la aggiungiamo direttamente\n",
    "        if word.startswith('#'):\n",
    "            # Sostituiamo l'hashtag con le parole splittate\n",
    "            cleaned_words.append(split_hashtag(word))\n",
    "        else:\n",
    "            cleaned_words.append(word)\n",
    "    \n",
    "    return ' '.join(cleaned_words)\n",
    "\n",
    "def clean_text(txt: str) -> str:\n",
    "    \"\"\"Pipeline completa: url/mention → emoticons → emoji → hashtag → sanitize.\"\"\"\n",
    "    txt = re.sub(r'http\\S+|www\\S+|@\\w+', '', txt) # rimuovi URL e mention\n",
    "    txt = convert_emoticons_to_text(txt)\n",
    "    txt = convert_emojis_to_text(txt)\n",
    "    txt = split_hashtags(txt)\n",
    "    txt = sanitize_text(txt)\n",
    "    return txt\n"
   ]
  },
  {
   "cell_type": "code",
   "execution_count": 10,
   "id": "443daf93",
   "metadata": {},
   "outputs": [
    {
     "data": {
      "text/plain": [
       "'This is a test! smiling face with smiling eyes smiling face with smiling eyes happy love regex easter egg nlp'"
      ]
     },
     "execution_count": 10,
     "metadata": {},
     "output_type": "execute_result"
    }
   ],
   "source": [
    "# Esempio per testare la funzione\n",
    "clean_text(\"This is a\\ttest!\\n😊😊 #happy #love @alberto #regex #easterEgg #nlp https://www.w3schools.com/python/python_regex.asp\")"
   ]
  },
  {
   "cell_type": "code",
   "execution_count": 11,
   "id": "b3a1e296",
   "metadata": {},
   "outputs": [
    {
     "name": "stdout",
     "output_type": "stream",
     "text": [
      "Issue with internal pattern finding emoji: '🇱'\n",
      "Issue with internal pattern finding emoji: '🇱'\n"
     ]
    },
    {
     "data": {
      "text/html": [
       "<div>\n",
       "<style scoped>\n",
       "    .dataframe tbody tr th:only-of-type {\n",
       "        vertical-align: middle;\n",
       "    }\n",
       "\n",
       "    .dataframe tbody tr th {\n",
       "        vertical-align: top;\n",
       "    }\n",
       "\n",
       "    .dataframe thead th {\n",
       "        text-align: right;\n",
       "    }\n",
       "</style>\n",
       "<table border=\"1\" class=\"dataframe\">\n",
       "  <thead>\n",
       "    <tr style=\"text-align: right;\">\n",
       "      <th></th>\n",
       "      <th>text</th>\n",
       "      <th>label</th>\n",
       "    </tr>\n",
       "  </thead>\n",
       "  <tbody>\n",
       "    <tr>\n",
       "      <th>0</th>\n",
       "      <td>seeing ppl walking w/ crutches makes me really excited for the next 3 weeks of my life</td>\n",
       "      <td>1</td>\n",
       "    </tr>\n",
       "    <tr>\n",
       "      <th>1</th>\n",
       "      <td>look for the girl with the broken smile, ask her if she wants to stay while, and she will be loved. two hearts musical note</td>\n",
       "      <td>0</td>\n",
       "    </tr>\n",
       "    <tr>\n",
       "      <th>2</th>\n",
       "      <td>Now I remember why I buy books online service with a smile</td>\n",
       "      <td>1</td>\n",
       "    </tr>\n",
       "    <tr>\n",
       "      <th>3</th>\n",
       "      <td>So is he banded from wearing the clothes? karma</td>\n",
       "      <td>1</td>\n",
       "    </tr>\n",
       "    <tr>\n",
       "      <th>4</th>\n",
       "      <td>Just found out there are Etch A Sketch apps. old school not old school</td>\n",
       "      <td>1</td>\n",
       "    </tr>\n",
       "    <tr>\n",
       "      <th>...</th>\n",
       "      <td>...</td>\n",
       "      <td>...</td>\n",
       "    </tr>\n",
       "    <tr>\n",
       "      <th>2857</th>\n",
       "      <td>I don't have to respect your beliefs.||I only have to respect your RIGHT to have them. || atheist atheism</td>\n",
       "      <td>0</td>\n",
       "    </tr>\n",
       "    <tr>\n",
       "      <th>2858</th>\n",
       "      <td>Women getting hit on by married managers at cracks me up hypocrites practice what you preach</td>\n",
       "      <td>1</td>\n",
       "    </tr>\n",
       "    <tr>\n",
       "      <th>2859</th>\n",
       "      <td>no but i followed you and i saw you posted that so i thot i might add on.....sorry</td>\n",
       "      <td>0</td>\n",
       "    </tr>\n",
       "    <tr>\n",
       "      <th>2860</th>\n",
       "      <td>I dont know what it is but I'm in love your products Christmas heaven! love skincare beauty thumbs up green heart person taking bath .</td>\n",
       "      <td>0</td>\n",
       "    </tr>\n",
       "    <tr>\n",
       "      <th>2861</th>\n",
       "      <td>For having union representation for decades, teachers' pay still sucks and is shorted by dues.</td>\n",
       "      <td>1</td>\n",
       "    </tr>\n",
       "  </tbody>\n",
       "</table>\n",
       "<p>2862 rows × 2 columns</p>\n",
       "</div>"
      ],
      "text/plain": [
       "                                                                                                                                        text  \\\n",
       "0                                                     seeing ppl walking w/ crutches makes me really excited for the next 3 weeks of my life   \n",
       "1                look for the girl with the broken smile, ask her if she wants to stay while, and she will be loved. two hearts musical note   \n",
       "2                                                                                 Now I remember why I buy books online service with a smile   \n",
       "3                                                                                            So is he banded from wearing the clothes? karma   \n",
       "4                                                                     Just found out there are Etch A Sketch apps. old school not old school   \n",
       "...                                                                                                                                      ...   \n",
       "2857                               I don't have to respect your beliefs.||I only have to respect your RIGHT to have them. || atheist atheism   \n",
       "2858                                            Women getting hit on by married managers at cracks me up hypocrites practice what you preach   \n",
       "2859                                                      no but i followed you and i saw you posted that so i thot i might add on.....sorry   \n",
       "2860  I dont know what it is but I'm in love your products Christmas heaven! love skincare beauty thumbs up green heart person taking bath .   \n",
       "2861                                          For having union representation for decades, teachers' pay still sucks and is shorted by dues.   \n",
       "\n",
       "      label  \n",
       "0         1  \n",
       "1         0  \n",
       "2         1  \n",
       "3         1  \n",
       "4         1  \n",
       "...     ...  \n",
       "2857      0  \n",
       "2858      1  \n",
       "2859      0  \n",
       "2860      0  \n",
       "2861      1  \n",
       "\n",
       "[2862 rows x 2 columns]"
      ]
     },
     "execution_count": 11,
     "metadata": {},
     "output_type": "execute_result"
    }
   ],
   "source": [
    "# Applichiamo la funzione di pulizia ai dataset\n",
    "df_train['text'] = df_train['text'].apply(clean_text)\n",
    "df_val['text'] = df_val['text'].apply(clean_text)\n",
    "df_test['text'] = df_test['text'].apply(clean_text)\n",
    "\n",
    "# Stampiamo il dataset\n",
    "df_train"
   ]
  },
  {
   "cell_type": "markdown",
   "id": "e4b10221",
   "metadata": {},
   "source": [
    "## Data augmentation\n",
    "\n",
    "Applichiamo delle strategie di **data augmentation**, per ridurre il rischio di **overfitting**. Procederemo col sostituire in maniera randomica alcune parole con dei **sinonimi**, utilizzando la funzione `synsets` di `wordnet`. Essendo il dataset abbastanza bilanciato già in partenza, duplichiamo semplicemente il numero di campioni originario, mantenendo il bilanciamento iniziale."
   ]
  },
  {
   "cell_type": "code",
   "execution_count": 12,
   "id": "30b92746",
   "metadata": {},
   "outputs": [],
   "source": [
    "def synonym_replacement(text, n=1):\n",
    "    \"\"\"Sostituisce n parole random nel testo con dei sinonimi.\"\"\"\n",
    "    words = text.split()\n",
    "    # Preserviamo una copia delle parole originali per non influenzare le sostituzioni\n",
    "    new_words = words.copy()\n",
    "\n",
    "    # Iteriamo per n volte (tante quante sono le sostituzioni che intendiamo fare)\n",
    "    for _ in range(n):\n",
    "        # Verifichiamo la presenza di parole con sinonimi\n",
    "        word_candidates = [w for w in words if wordnet.synsets(w)]\n",
    "\n",
    "        # Se non ci sono parole con sinonimi, usciamo\n",
    "        if not word_candidates:\n",
    "            break\n",
    "        \n",
    "        # Scegliamo una parola a caso\n",
    "        word = random.choice(word_candidates)\n",
    "\n",
    "        # Otteniamo i sinonimi della parola\n",
    "        synonyms = wordnet.synsets(word)\n",
    "\n",
    "        # Se ci sono sinonimi, sostituiamo la parola con uno di essi\n",
    "        if synonyms:\n",
    "            synonym = synonyms[0].lemmas()[0].name().replace(\"_\", \" \")\n",
    "            new_words = [synonym if w == word else w for w in new_words]\n",
    "    \n",
    "    # Ritorniamo il testo con i sinonimi\n",
    "    return \" \".join(new_words)"
   ]
  },
  {
   "cell_type": "code",
   "execution_count": 13,
   "id": "689dd603",
   "metadata": {},
   "outputs": [
    {
     "name": "stdout",
     "output_type": "stream",
     "text": [
      "dog.n.01\n",
      "a member of the genus Canis (probably descended from the common wolf) that has been domesticated by man since prehistoric times; occurs in many breeds\n",
      "['the dog barked all night']\n",
      "\n",
      "frump.n.01\n",
      "a dull unattractive unpleasant girl or woman\n",
      "['she got a reputation as a frump', \"she's a real dog\"]\n",
      "\n",
      "dog.n.03\n",
      "informal term for a man\n",
      "['you lucky dog']\n",
      "\n",
      "cad.n.01\n",
      "someone who is morally reprehensible\n",
      "['you dirty dog']\n",
      "\n",
      "frank.n.02\n",
      "a smooth-textured sausage of minced beef or pork usually smoked; often served on a bread roll\n",
      "[]\n",
      "\n",
      "pawl.n.01\n",
      "a hinged catch that fits into a notch of a ratchet to move a wheel forward or prevent it from moving backward\n",
      "[]\n",
      "\n",
      "andiron.n.01\n",
      "metal supports for logs in a fireplace\n",
      "['the andirons were too hot to touch']\n",
      "\n",
      "chase.v.01\n",
      "go after with the intent to catch\n",
      "['The policeman chased the mugger down the alley', 'the dog chased the rabbit']\n",
      "\n"
     ]
    }
   ],
   "source": [
    "example = wordnet.synsets(\"dog\")\n",
    "for w in example:\n",
    "    print(w.name())\n",
    "    print(w.definition())\n",
    "    print(w.examples())\n",
    "    print()"
   ]
  },
  {
   "cell_type": "code",
   "execution_count": 14,
   "id": "49c7ff02",
   "metadata": {},
   "outputs": [
    {
     "name": "stdout",
     "output_type": "stream",
     "text": [
      "Dimensione del dataset di train dopo l'augmentation: (5724, 2)\n",
      "Distribuzione delle classi nel dataset di train:\n",
      "label\n",
      "1    0.504892\n",
      "0    0.495108\n",
      "Name: proportion, dtype: float64\n"
     ]
    }
   ],
   "source": [
    "# Definiamo le classi da aumentare e i fattori di augmentation\n",
    "augmentation_factors = {\n",
    "    0: 1, # Non Irony\n",
    "    1: 1 # Irony\n",
    "}\n",
    "\n",
    "# Creiamo una lista per i nuovi dati\n",
    "augmented_data = []\n",
    "\n",
    "# Iteriamo sul dataset e aumentiamo i dati in base ai fattori definiti\n",
    "for _, row in df_train.iterrows():\n",
    "    text, label = row[\"text\"], row[\"label\"]\n",
    "\n",
    "    if label in augmentation_factors:\n",
    "        # Iteriamo per il numero di volte definito nel fattore di augmentation\n",
    "        for _ in range(augmentation_factors[label]):\n",
    "\n",
    "            # Sostituiamo con i sinonimi\n",
    "            new_text = synonym_replacement(text, n=1)\n",
    "\n",
    "            # Aggiungiamo il nuovo testo e la classe\n",
    "            augmented_data.append([new_text, label])\n",
    "\n",
    "augmented_df = pd.DataFrame(augmented_data, columns=[\"text\", \"label\"])\n",
    "\n",
    "# Combiniamo il dataset originale con quello aumentato\n",
    "df_train = pd.concat([df_train, augmented_df], ignore_index=True)\n",
    "print(f\"Dimensione del dataset di train dopo l'augmentation: {df_train.shape}\")\n",
    "print(\"Distribuzione delle classi nel dataset di train:\")\n",
    "print(df_train['label'].value_counts(normalize=True))"
   ]
  },
  {
   "cell_type": "markdown",
   "id": "45f786fc",
   "metadata": {},
   "source": [
    "Come si può notare dopo la **data augmentation**, la distribuzione tra le classi è rimasta volutamente invariata"
   ]
  },
  {
   "cell_type": "markdown",
   "id": "b2df4ccd",
   "metadata": {},
   "source": [
    "## Scelta del modello: RoBERTa"
   ]
  },
  {
   "cell_type": "markdown",
   "id": "41cf0a87",
   "metadata": {},
   "source": [
    "### Scelta degli iperparametri\n",
    "\n",
    "Creiamo un dizionario per settare gli **iperparametriéé del modello. Questi valori sono stati scelti empiricamente, dopo aver testato diverse combinazioni per ottimizzare le prestazioni durante l'addestramento del nostro modello. In particolare:\n",
    "\n",
    "- `batch_size = 16`: in quanto il valore migliore con riferimento alla quantità di VRAM a disposizione sulle nostre GPU (16 GB);\n",
    "- `dropout = 0.3`: rappresenta un valore intermedio che non permette al nostro modello di andare in overfitting e di generalizzare abbastanza bene;\n",
    "- `learning_rate = 1e-5`: questo valore rende il modello abbastanza stabile durante la fase di addestramento. Altri valori testati sono stati `2e-5`, `3e-5` e `1e-6`, con i quali tuttavia abbiamo dei cali improvvisi di performance sulla validation;\n",
    "- `epochs = 1000`: rappresentano un valore sufficiente per addestrare il modello e far intervenire l'early stopping dopo un numero di epoche sufficiente da non manifestare miglioramenti sulla validation."
   ]
  },
  {
   "cell_type": "code",
   "execution_count": 15,
   "id": "6f1607a9",
   "metadata": {},
   "outputs": [],
   "source": [
    "hyperparameters_roberta = {\n",
    "    \"model_name\": \"roberta-base\",\n",
    "    \"batch_size\": 16,\n",
    "    \"learning_rate\": 1e-5,\n",
    "    \"epochs\": 100,\n",
    "    \"max_length\": 81,\n",
    "    \"dropout\": 0.3,\n",
    "    \"patience\": 7,\n",
    "    \"min_delta\": 0.001,\n",
    "}"
   ]
  },
  {
   "cell_type": "code",
   "execution_count": 16,
   "id": "cf03286a",
   "metadata": {},
   "outputs": [],
   "source": [
    "# Istanziamo un tokenizzatore per il modello scelto\n",
    "tokenizer = AutoTokenizer.from_pretrained(hyperparameters_roberta['model_name'])"
   ]
  },
  {
   "cell_type": "markdown",
   "id": "f6b4b5f4",
   "metadata": {},
   "source": [
    "### Controllo sulla lunghezza dei tweet\n",
    "\n",
    "Prima di procedere con la tokenizzazione, è importante verificare le lunghezze dei tweet per due fattori importanti:\n",
    "- la distribuzione delle lunghezze, per poter ridurre la `max_length` e risparmiare memoria (meno padding nei vettori) e velocizzare l'addestramento (meno dati da processare)\n",
    "- la presenza di tweet che superano la lunghezza massima consentita dal modello RoBERTa (`max_length = 128` token).\n",
    "\n",
    "I tweet troppo lunghi verranno troncati dal tokenizer e parte del contenuto potrebbe andare perso.  "
   ]
  },
  {
   "cell_type": "code",
   "execution_count": 17,
   "id": "e0503751",
   "metadata": {},
   "outputs": [
    {
     "data": {
      "image/png": "[encoded data removed]",
      "text/plain": [
       "<Figure size 1000x600 with 1 Axes>"
      ]
     },
     "metadata": {},
     "output_type": "display_data"
    },
    {
     "name": "stdout",
     "output_type": "stream",
     "text": [
      "Valore scelto per max_length: 81\n",
      "Massimo originale nel dataset: 255\n",
      "Esempi che verrebbero troncati a 81: 2 (0.03%)\n",
      "\n",
      "Esempi troncati (indice, lunghezza, inizio del testo):\n",
      "- Indice: 1295, Lunghezza: 255, Testo: Aaaaaamd what time is your bedtime? >better tweet Dad at night from my house. I d...\n",
      "- Indice: 4157, Lunghezza: 255, Testo: Aaaaaamd what time be your bedtime? >better tweet Dad at night from my house. I d...\n"
     ]
    }
   ],
   "source": [
    "# Calcoliamo la distribuzione delle lunghezze tokenizzate per tutti i set\n",
    "all_texts = df_train[\"text\"].tolist() + df_val[\"text\"].tolist() + df_test[\"text\"].tolist()\n",
    "model_max_length = 128  # Limite massimo per RoBERTa-base\n",
    "chosen_max_length = hyperparameters_roberta['max_length']\n",
    "\n",
    "# Calcoliamo le lunghezze tokenizzate con encode (special tokens inclusi)\n",
    "token_lengths = [len(tokenizer.encode(t, add_special_tokens=True)) for t in all_texts]\n",
    "\n",
    "# Troviamo gli indici e le lunghezze dei testi troppo lunghi\n",
    "too_long = [(idx, length, all_texts[idx]) for idx, length in enumerate(token_lengths) if length > chosen_max_length]\n",
    "\n",
    "# Quanti esempi superano chosen_max_length\n",
    "too_long_count = len(too_long)\n",
    "max_length_in_data = max(token_lengths)\n",
    "\n",
    "# Visualizzazione distribuzione\n",
    "plt.figure(figsize=(10, 6))\n",
    "plt.hist(token_lengths, bins=50, alpha=0.7, edgecolor='black')\n",
    "plt.axvline(chosen_max_length, color='r', linestyle='dashed', linewidth=2, label=f\"max_length = {chosen_max_length}\")\n",
    "plt.axvline(model_max_length, color='orange', linestyle='dotted', linewidth=2, label=f\"Limite modello = {model_max_length}\")\n",
    "plt.title(\"Distribuzione della lunghezza dei token (con special tokens)\")\n",
    "plt.xlabel(\"Lunghezza Token\")\n",
    "plt.ylabel(\"Frequenza\")\n",
    "plt.legend()\n",
    "plt.show()\n",
    "\n",
    "print(f\"Valore scelto per max_length: {chosen_max_length}\")\n",
    "print(f\"Massimo originale nel dataset: {max_length_in_data}\")\n",
    "print(f\"Esempi che verrebbero troncati a {chosen_max_length}: {too_long_count} ({too_long_count/len(all_texts)*100:.2f}%)\\n\")\n",
    "\n",
    "# Mostriamo i primi 5 esempi troppo lunghi\n",
    "print(\"Esempi troncati (indice, lunghezza, inizio del testo):\")\n",
    "for idx, length, text in too_long:\n",
    "    print(f\"- Indice: {idx}, Lunghezza: {length}, Testo: {text[:chosen_max_length]}...\")\n"
   ]
  },
  {
   "cell_type": "markdown",
   "id": "4921ac27",
   "metadata": {},
   "source": [
    "Dall'analisi della distribuzione delle lunghezze dei tweet dopo la tokenizzazione è possibile notare che la quasi totalità dei tweet presenta una lunghezza <= 81 token, con solo due outlier che superano sia questo valore che il limite massimo consentito dal modello RoBERTa (`max_length = 128`).\n",
    "\n",
    "A questo punto, per diminuire il troncamento dei testi, è poco impattante scegliere il limite del modello o il valore 81, in quanti in entrambi i casi solo due outlier verrebbero troncati dal tokenizer. In ottica di performance, per ridurre il padding e ottimizzare l'addestramento, si preferisce utilizzare il valore `81`."
   ]
  },
  {
   "cell_type": "markdown",
   "id": "65f54bcb",
   "metadata": {},
   "source": [
    "## Preparazione del dataset\n",
    "\n",
    "Per poter addestrare il modello, dobbiamo preparare opportunamente il dataset\n",
    "- **Dataset**: Organizza i dati (testo e label) in una struttura compatibile con PyTorch, permettendo di applicare trasformazioni come la tokenizzazione. Utilizziamo la funzione `map` per tokenizzare il testo di ciascun tweet\n",
    "- **DataLoader**: Suddivide il dataset in batch, gestisce lo shuffle e prepara i dati per essere processati efficientemente dalla rete neurale durante l’addestramento e la validazione.\n",
    "\n"
   ]
  },
  {
   "cell_type": "code",
   "execution_count": 18,
   "id": "3fed558e",
   "metadata": {},
   "outputs": [],
   "source": [
    "def create_dataset(df, tokenizer):\n",
    "    \"\"\"Funzione per creare il dataset a partire dal dataframe.\"\"\"\n",
    "    dataset = Dataset.from_pandas(df)\n",
    "\n",
    "    # Tokenizzazione del testo\n",
    "    dataset = dataset.map(\n",
    "        lambda x: tokenizer(\n",
    "            x[\"text\"],\n",
    "            truncation=True,\n",
    "            padding=\"max_length\",\n",
    "            max_length=hyperparameters_roberta[\"max_length\"],\n",
    "        ),\n",
    "        batched=True,\n",
    "    )\n",
    "\n",
    "    return dataset"
   ]
  },
  {
   "cell_type": "code",
   "execution_count": 19,
   "id": "ec755e21",
   "metadata": {},
   "outputs": [
    {
     "name": "stderr",
     "output_type": "stream",
     "text": [
      "Map: 100%|██████████| 5724/5724 [00:00<00:00, 29197.57 examples/s]\n",
      "Map: 100%|██████████| 955/955 [00:00<00:00, 28081.80 examples/s]\n",
      "Map: 100%|██████████| 784/784 [00:00<00:00, 24914.83 examples/s]\n"
     ]
    },
    {
     "data": {
      "text/plain": [
       "{'text': 'seeing ppl walking w/ crutches makes me really excited for the next 3 weeks of my life',\n",
       " 'label': 1,\n",
       " 'input_ids': [0,\n",
       "  33471,\n",
       "  181,\n",
       "  2911,\n",
       "  3051,\n",
       "  885,\n",
       "  73,\n",
       "  3977,\n",
       "  1182,\n",
       "  5559,\n",
       "  817,\n",
       "  162,\n",
       "  269,\n",
       "  2283,\n",
       "  13,\n",
       "  5,\n",
       "  220,\n",
       "  155,\n",
       "  688,\n",
       "  9,\n",
       "  127,\n",
       "  301,\n",
       "  2,\n",
       "  1,\n",
       "  1,\n",
       "  1,\n",
       "  1,\n",
       "  1,\n",
       "  1,\n",
       "  1,\n",
       "  1,\n",
       "  1,\n",
       "  1,\n",
       "  1,\n",
       "  1,\n",
       "  1,\n",
       "  1,\n",
       "  1,\n",
       "  1,\n",
       "  1,\n",
       "  1,\n",
       "  1,\n",
       "  1,\n",
       "  1,\n",
       "  1,\n",
       "  1,\n",
       "  1,\n",
       "  1,\n",
       "  1,\n",
       "  1,\n",
       "  1,\n",
       "  1,\n",
       "  1,\n",
       "  1,\n",
       "  1,\n",
       "  1,\n",
       "  1,\n",
       "  1,\n",
       "  1,\n",
       "  1,\n",
       "  1,\n",
       "  1,\n",
       "  1,\n",
       "  1,\n",
       "  1,\n",
       "  1,\n",
       "  1,\n",
       "  1,\n",
       "  1,\n",
       "  1,\n",
       "  1,\n",
       "  1,\n",
       "  1,\n",
       "  1,\n",
       "  1,\n",
       "  1,\n",
       "  1,\n",
       "  1,\n",
       "  1,\n",
       "  1,\n",
       "  1],\n",
       " 'attention_mask': [1,\n",
       "  1,\n",
       "  1,\n",
       "  1,\n",
       "  1,\n",
       "  1,\n",
       "  1,\n",
       "  1,\n",
       "  1,\n",
       "  1,\n",
       "  1,\n",
       "  1,\n",
       "  1,\n",
       "  1,\n",
       "  1,\n",
       "  1,\n",
       "  1,\n",
       "  1,\n",
       "  1,\n",
       "  1,\n",
       "  1,\n",
       "  1,\n",
       "  1,\n",
       "  0,\n",
       "  0,\n",
       "  0,\n",
       "  0,\n",
       "  0,\n",
       "  0,\n",
       "  0,\n",
       "  0,\n",
       "  0,\n",
       "  0,\n",
       "  0,\n",
       "  0,\n",
       "  0,\n",
       "  0,\n",
       "  0,\n",
       "  0,\n",
       "  0,\n",
       "  0,\n",
       "  0,\n",
       "  0,\n",
       "  0,\n",
       "  0,\n",
       "  0,\n",
       "  0,\n",
       "  0,\n",
       "  0,\n",
       "  0,\n",
       "  0,\n",
       "  0,\n",
       "  0,\n",
       "  0,\n",
       "  0,\n",
       "  0,\n",
       "  0,\n",
       "  0,\n",
       "  0,\n",
       "  0,\n",
       "  0,\n",
       "  0,\n",
       "  0,\n",
       "  0,\n",
       "  0,\n",
       "  0,\n",
       "  0,\n",
       "  0,\n",
       "  0,\n",
       "  0,\n",
       "  0,\n",
       "  0,\n",
       "  0,\n",
       "  0,\n",
       "  0,\n",
       "  0,\n",
       "  0,\n",
       "  0,\n",
       "  0,\n",
       "  0,\n",
       "  0]}"
      ]
     },
     "execution_count": 19,
     "metadata": {},
     "output_type": "execute_result"
    }
   ],
   "source": [
    "train_dataset = create_dataset(df_train, tokenizer)\n",
    "val_dataset = create_dataset(df_val, tokenizer)\n",
    "test_dataset = create_dataset(df_test, tokenizer)\n",
    "\n",
    "# Stampiamo il dataset di prova\n",
    "train_dataset[0]"
   ]
  },
  {
   "cell_type": "markdown",
   "id": "7e4dd3b0",
   "metadata": {},
   "source": [
    "Questo risultato mostra la tokenizzazione:\n",
    "- Ogni input_id rappresenta la posizione di quel token nel vocabolario del modello\n",
    "- Tutti i tweet vengono portati alla stessa lunghezza (max_length), aggiungendo zeri (padding) se sono troppo corti, o tagliando se sono troppo lunghi\n",
    "- Viene creata una maschera (attention_mask) che indica quali token sono reali (1) e quali sono padding (0)."
   ]
  },
  {
   "cell_type": "code",
   "execution_count": 20,
   "id": "eeacbafd",
   "metadata": {},
   "outputs": [],
   "source": [
    "def create_dataloader(dataset, batch_size, shuffle=False):\n",
    "    \"\"\"Funzione per creare un dataloader a partire dal dataset.\"\"\"\n",
    "    # Combiniamo i dati\n",
    "    def collate_fn(examples):\n",
    "        return {\n",
    "            'input_ids': torch.tensor([example['input_ids'] for example in examples]),\n",
    "            'attention_mask': torch.tensor([example['attention_mask'] for example in examples]),\n",
    "            'labels': torch.tensor([example['label'] for example in examples]),\n",
    "        }\n",
    "\n",
    "    # Creiamo il dataloader\n",
    "    dataloader = DataLoader(dataset, batch_size=batch_size, collate_fn=collate_fn, shuffle=shuffle)\n",
    "\n",
    "    return dataloader"
   ]
  },
  {
   "cell_type": "code",
   "execution_count": 21,
   "id": "3160eca6",
   "metadata": {},
   "outputs": [
    {
     "name": "stdout",
     "output_type": "stream",
     "text": [
      "{'input_ids': tensor([[    0, 40183,   300,  ...,     1,     1,     1],\n",
      "        [    0, 10365,   628,  ...,     1,     1,     1],\n",
      "        [    0,   100, 40182,  ...,     1,     1,     1],\n",
      "        ...,\n",
      "        [    0, 21461,  1619,  ...,     1,     1,     1],\n",
      "        [    0, 29042,    47,  ...,     1,     1,     1],\n",
      "        [    0,  7608,   473,  ...,     1,     1,     1]]), 'attention_mask': tensor([[1, 1, 1,  ..., 0, 0, 0],\n",
      "        [1, 1, 1,  ..., 0, 0, 0],\n",
      "        [1, 1, 1,  ..., 0, 0, 0],\n",
      "        ...,\n",
      "        [1, 1, 1,  ..., 0, 0, 0],\n",
      "        [1, 1, 1,  ..., 0, 0, 0],\n",
      "        [1, 1, 1,  ..., 0, 0, 0]]), 'labels': tensor([1, 1, 0, 0, 1, 1, 0, 1, 1, 0, 1, 0, 1, 1, 0, 0])}\n"
     ]
    }
   ],
   "source": [
    "train_dataloader = create_dataloader(train_dataset, hyperparameters_roberta['batch_size'], shuffle=True)\n",
    "val_dataloader = create_dataloader(val_dataset, hyperparameters_roberta['batch_size'], shuffle=True)\n",
    "\n",
    "# Stampiamo un batch di dati\n",
    "for batch in train_dataloader:\n",
    "    print(batch)\n",
    "    break"
   ]
  },
  {
   "cell_type": "markdown",
   "id": "a7f49cf3",
   "metadata": {},
   "source": [
    "## Creazione della rete neurale\n",
    "\n",
    "Dopo una serie di tentativi, abbiamo costruito la rete neurale con riferimento alla seguente architettura:\n",
    "\n",
    "- Backbone del modello preaddestrato\n",
    "- Layer di dropout\n",
    "- Layer fully connected per restituire il risultato della classificazione (singola uscita)\n",
    "- Funzione di attivazione sigmoidale"
   ]
  },
  {
   "cell_type": "code",
   "execution_count": 22,
   "id": "d39dbd5c",
   "metadata": {},
   "outputs": [],
   "source": [
    "class EarlyStopping:\n",
    "    \"\"\"Implementazione dell'early stopping per fermare l'allenamento quando la validation loss non migliora.\"\"\"\n",
    "    \n",
    "    def __init__(self, patience=5, min_delta=0.01):\n",
    "        self.patience = patience\n",
    "        self.min_delta = min_delta\n",
    "        self.counter = 0\n",
    "        self.best_validation_loss = float('inf')\n",
    "        self.early_stop = False\n",
    "\n",
    "    def __call__(self, validation_loss):\n",
    "        if validation_loss < self.best_validation_loss - self.min_delta:\n",
    "            self.best_validation_loss = validation_loss\n",
    "            self.counter = 0\n",
    "        else:\n",
    "            self.counter += 1\n",
    "            print(f\"Nessun miglioramento nella validation loss. Contatore: {self.counter}/{self.patience}\")\n",
    "            if self.counter >= self.patience:\n",
    "                self.early_stop = True\n",
    "                print(\"Early stopping attivato.\")"
   ]
  },
  {
   "cell_type": "code",
   "execution_count": 23,
   "id": "04a0520d",
   "metadata": {},
   "outputs": [],
   "source": [
    "class AlBERToBinaryClassifier(nn.Module):\n",
    "    \"\"\"Modello di classificazione binaria basato su un modello preaddestrato.\"\"\"\n",
    "    \n",
    "    def __init__(self, model_name, dropout):\n",
    "        super().__init__()\n",
    "        # Backbone del modello preaddestrato\n",
    "        self.model = AutoModel.from_pretrained(model_name)\n",
    "        # Layer di dropout\n",
    "        self.dropout = nn.Dropout(dropout)\n",
    "        # Layer fully connected\n",
    "        self.fc = nn.Linear(self.model.config.hidden_size, 64)\n",
    "        # Layer di classificazione\n",
    "        self.classifier = nn.Linear(64, 1)\n",
    "        # Funzione di attivazione sigmoidale\n",
    "        self.activation = nn.Sigmoid()\n",
    "\n",
    "    def forward(self, input_ids, attention_mask):\n",
    "        # Otteniamo le rappresentazioni dal modello preaddestrato\n",
    "        outputs = self.model(input_ids=input_ids, attention_mask=attention_mask, return_dict=True)\n",
    "        # Prendiamo il vettore [CLS] (o equivalente) per la classificazione\n",
    "        cls_output = outputs.last_hidden_state[:, 0, :]\n",
    "        \"\"\"# Applichiamo il dropout\n",
    "        x = self.dropout(cls_output)\n",
    "        # Passiamo attraverso il layer fully connected\n",
    "        x = self.fc(x)\n",
    "        \"\"\"\n",
    "        x = self.fc(cls_output)\n",
    "        x = self.dropout(x)\n",
    "        # Passiamo attraverso il layer di classificazione\n",
    "        x = self.classifier(x)\n",
    "        # Applichiamo la funzione di attivazione sigmoidale\n",
    "        x = self.activation(x)\n",
    "        return x"
   ]
  },
  {
   "cell_type": "markdown",
   "id": "3dff041b",
   "metadata": {},
   "source": [
    "### Training e Validation loop"
   ]
  },
  {
   "cell_type": "code",
   "execution_count": 24,
   "id": "c62aeff4",
   "metadata": {},
   "outputs": [],
   "source": [
    "def train_classifier(model, train_dataloader, optimizer, loss_fn, device):\n",
    "    \"\"\"Funzione per il training del modello.\"\"\"\n",
    "\n",
    "    # Mettiamo il modello in modalità di training\n",
    "    model.train()\n",
    "\n",
    "    # Inizializziamo le variabili di loss e predizioni\n",
    "    epoch_loss = correct_preds = total_preds = 0\n",
    "\n",
    "    # Creiamo due liste per le predizioni e le labels\n",
    "    all_preds = []\n",
    "    all_labels = []\n",
    "\n",
    "    # Iteriamo il dataloader\n",
    "    for batch in tqdm(train_dataloader, total=len(train_dataloader), desc=\"Training\"):\n",
    "        # Estraiamo i dati dal batch\n",
    "        input_ids = batch[\"input_ids\"].to(device)\n",
    "        attention_mask = batch[\"attention_mask\"].to(device)\n",
    "        labels = batch[\"labels\"].to(device)\n",
    "\n",
    "        # Azzeriamo i gradienti\n",
    "        optimizer.zero_grad()\n",
    "        # Passiamo il batch al modello\n",
    "        outputs = model(input_ids, attention_mask)\n",
    "        # Calcoliamo la loss (output è già una probabilità grazie a Sigmoid)\n",
    "        loss = loss_fn(outputs.squeeze(1), labels.float())\n",
    "        # Calcoliamo i gradienti\n",
    "        loss.backward()\n",
    "        # Ottimizziamo\n",
    "        optimizer.step()\n",
    "        # Aggiungiamo la loss\n",
    "        epoch_loss += loss.item()\n",
    "        # Ricaviamo le predizioni\n",
    "        preds = (outputs.squeeze(1) > 0.5).long()\n",
    "\n",
    "        # Aggiungiamo le predizioni corrette e labels totali\n",
    "        all_preds.extend(preds.cpu().numpy())\n",
    "        all_labels.extend(labels.cpu().numpy())\n",
    "\n",
    "        # Calcoliamo il numero di predizioni corrette\n",
    "        correct_preds += (preds == labels).sum().item()\n",
    "        total_preds += labels.size(0)\n",
    "\n",
    "    # Calcoliamo la loss media\n",
    "    epoch_loss /= len(train_dataloader)\n",
    "    # Calcoliamo l'accuracy\n",
    "    accuracy = correct_preds / total_preds\n",
    "    # Calcoliamo l'F1 score == 2 * (precision * recall) / (precision + recall)\n",
    "    f1 = f1_score(all_labels, all_preds, average=\"macro\")\n",
    "\n",
    "    return epoch_loss, accuracy, f1"
   ]
  },
  {
   "cell_type": "code",
   "execution_count": 25,
   "id": "f13b9a82",
   "metadata": {},
   "outputs": [],
   "source": [
    "# Funzione di validazione\n",
    "def validate_classifier(model, val_dataloader, loss_fn, device, collect_preds=None):\n",
    "    \"\"\"Funzione per la validazione del modello.\"\"\"\n",
    "\n",
    "    # Mettiamo il modello in modalità di eval\n",
    "    model.eval()\n",
    "    # Inizializziamo le variabili di loss e predizioni\n",
    "    epoch_loss = correct_preds = total_preds = 0\n",
    "    # Creiamo due liste per le predizioni e le labels\n",
    "    all_preds = []\n",
    "    all_labels = []\n",
    "\n",
    "    # Iteriamo il dataloader\n",
    "    with torch.no_grad():\n",
    "        for batch in tqdm(val_dataloader, total=len(val_dataloader), desc=\"Validation\"):\n",
    "            # Estraiamo i dati dal batch\n",
    "            input_ids = batch[\"input_ids\"].to(device)\n",
    "            attention_mask = batch[\"attention_mask\"].to(device)\n",
    "            labels = batch[\"labels\"].to(device)\n",
    "\n",
    "            # Passiamo il batch al modello\n",
    "            outputs = model(input_ids, attention_mask)\n",
    "            # Calcoliamo la loss (output è già una probabilità grazie a Sigmoid)\n",
    "            loss = loss_fn(outputs.squeeze(1), labels.float())  # labels devono essere float per BCELoss\n",
    "            # Aggiungiamo la loss\n",
    "            epoch_loss += loss.item()\n",
    "            # Predizioni\n",
    "            preds = (outputs.squeeze(1) > 0.5).long()\n",
    "\n",
    "            # Aggiungiamo le predizioni corrette e labels totali\n",
    "            all_preds.extend(preds.cpu().numpy())\n",
    "            all_labels.extend(labels.cpu().numpy())\n",
    "\n",
    "            # Calcoliamo il numero di predizioni corrette\n",
    "            correct_preds += (preds == labels).sum().item()\n",
    "            total_preds += labels.size(0)\n",
    "\n",
    "    # Calcoliamo la loss media\n",
    "    epoch_loss /= len(val_dataloader)\n",
    "    # Calcoliamo l'accuracy\n",
    "    accuracy = correct_preds / total_preds\n",
    "    # Calcoliamo l'F1 sulla base di tutte le predizioni\n",
    "    f1 = f1_score(all_labels, all_preds, average=\"macro\")\n",
    "\n",
    "    # Ritorniamo la loss e l'accuracy. Se richiesto, ritorniamo anche le predizioni.\n",
    "    if collect_preds:\n",
    "        return epoch_loss, accuracy, f1, all_labels, all_preds\n",
    "    else:\n",
    "        return epoch_loss, accuracy, f1"
   ]
  },
  {
   "cell_type": "code",
   "execution_count": 26,
   "id": "74725156",
   "metadata": {},
   "outputs": [],
   "source": [
    "def generate_final_plots(history, all_labels, all_preds):\n",
    "    \"\"\"Genera i plot finali delle metriche di training e la matrice di confusione.\"\"\"\n",
    "\n",
    "    # Grafico delle perdite\n",
    "    plt.figure(figsize=(12, 6))\n",
    "    plt.plot(history[\"train_loss\"], label=\"Train Loss\", marker=\"o\")\n",
    "    plt.plot(history[\"val_loss\"], label=\"Validation Loss\", marker=\"o\")\n",
    "    plt.title(\"Loss per epoca\")\n",
    "    plt.xlabel(\"Epoca\")\n",
    "    plt.ylabel(\"Loss\")\n",
    "    plt.legend()\n",
    "    plt.grid(True)\n",
    "    plt.show()\n",
    "\n",
    "    plt.tight_layout()\n",
    "\n",
    "    # Grafico delle accuratezze\n",
    "    plt.figure(figsize=(12, 6))\n",
    "    plt.plot(history[\"train_accuracy\"], label=\"Train Accuracy\", marker=\"o\")\n",
    "    plt.plot(history[\"val_accuracy\"], label=\"Validation Accuracy\", marker=\"o\")\n",
    "    plt.title(\"Accuracy per epoca\")\n",
    "    plt.xlabel(\"Epoca\")\n",
    "    plt.ylabel(\"Accuracy\")\n",
    "    plt.legend()\n",
    "    plt.grid(True)\n",
    "    plt.show()\n",
    "\n",
    "    plt.tight_layout()\n",
    "\n",
    "    # Grafico dell'F1-score\n",
    "    plt.figure(figsize=(12, 6))\n",
    "    plt.plot(history[\"train_f1\"], label=\"Train F1-Score\", marker=\"o\")\n",
    "    plt.plot(history[\"val_f1\"], label=\"Validation F1-Score\", marker=\"o\")\n",
    "    plt.title(\"F1-Score per epoca\")\n",
    "    plt.xlabel(\"Epoca\")\n",
    "    plt.ylabel(\"F1-Score\")\n",
    "    plt.legend()\n",
    "    plt.grid(True)\n",
    "    plt.show()\n",
    "\n",
    "    plt.tight_layout()\n",
    "\n",
    "    # Matrice di confusione\n",
    "    cm = confusion_matrix(all_labels, all_preds)\n",
    "    plt.figure(figsize=(8, 6))\n",
    "    sns.heatmap(cm, annot=True, fmt=\"d\", cmap=\"Blues\")\n",
    "    plt.title(\"Confusion Matrix\")\n",
    "    plt.xlabel(\"Predicted Label\")\n",
    "    plt.ylabel(\"True Label\")\n",
    "    plt.show()"
   ]
  },
  {
   "cell_type": "code",
   "execution_count": 27,
   "id": "ef53f17d",
   "metadata": {},
   "outputs": [],
   "source": [
    "def train_and_evaluate(model, train_dataloader, val_dataloader, optimizer, loss_fn, num_epochs, device, early_stopping=None):\n",
    "    \"\"\"Funzione per addestrare e valutare il modello.\"\"\"\n",
    "\n",
    "    # Dizionario per tenere traccia delle metriche di training e validazione\n",
    "    history = {\n",
    "        \"train_loss\": [],\n",
    "        \"val_loss\": [],\n",
    "        \"train_accuracy\": [],\n",
    "        \"val_accuracy\": [],\n",
    "        \"train_f1\": [],\n",
    "        \"val_f1\": [],\n",
    "    }\n",
    "\n",
    "    # Variabile per tenere traccia del miglior F1 score trovato finora\n",
    "    best_f1 = 0.0\n",
    "\n",
    "    # Liste contenenti le predizioni e le labels\n",
    "    all_labels = []\n",
    "    all_preds = []\n",
    "\n",
    "    for epoch in range(num_epochs):\n",
    "        print(f\"\\nEpoch {epoch + 1}/{num_epochs}\")\n",
    "\n",
    "        # Training per la singola epoca\n",
    "        train_loss, train_accuracy, train_f1 = train_classifier(model, train_dataloader, optimizer, loss_fn, device)\n",
    "        # Validazione per la singola epoca\n",
    "        validation_loss, validation_accuracy, f1, labels, preds = validate_classifier(model, val_dataloader, loss_fn, device, collect_preds=True)\n",
    "        # Salviamo le predizioni e le labels\n",
    "        all_labels.extend(labels)\n",
    "        all_preds.extend(preds)\n",
    "\n",
    "        # Salviamo i dati di training e validazione\n",
    "        history[\"train_loss\"].append(train_loss)\n",
    "        history[\"val_loss\"].append(validation_loss)\n",
    "        history[\"train_accuracy\"].append(train_accuracy)\n",
    "        history[\"val_accuracy\"].append(validation_accuracy)\n",
    "        history[\"train_f1\"].append(train_f1)\n",
    "        history[\"val_f1\"].append(f1)\n",
    "\n",
    "        # Stampiamo i risultati sulle metriche\n",
    "        print(f\"Train Loss: {train_loss:.4f}, Train Accuracy: {train_accuracy:.4f}, Train F1: {train_f1:.4f}\")\n",
    "        print(f\"Validation Loss: {validation_loss:.4f}, Validation Accuracy: {validation_accuracy:.4f}, Validation F1: {f1:.4f}\")\n",
    "\n",
    "        # Salviamo il miglior modello basato sull'F1 score\n",
    "        if f1 > best_f1:\n",
    "            best_f1 = f1\n",
    "            print(f\"New best F1 score: {best_f1:.4f}\")\n",
    "            torch.save(model.state_dict(), \"best_model_irony.pth\")\n",
    "\n",
    "        # Early stopping\n",
    "        if early_stopping:\n",
    "            early_stopping(validation_loss)\n",
    "            if early_stopping.early_stop:\n",
    "                print(f\"Early stopping at epoch {epoch + 1}\")\n",
    "                break\n",
    "\n",
    "    # Generiamo i grafici alla fine dell'addestramento\n",
    "    generate_final_plots(history, all_labels, all_preds)\n",
    "\n",
    "    # Restituiamo il miglior F1 score trovato durante l'addestramento\n",
    "    print(f\"Best F1 score: {best_f1:.4f}\")"
   ]
  },
  {
   "cell_type": "code",
   "execution_count": 34,
   "id": "e8d2afdd",
   "metadata": {},
   "outputs": [
    {
     "name": "stdout",
     "output_type": "stream",
     "text": [
      "Using device: cuda\n"
     ]
    },
    {
     "name": "stderr",
     "output_type": "stream",
     "text": [
      "Some weights of RobertaModel were not initialized from the model checkpoint at roberta-base and are newly initialized: ['pooler.dense.bias', 'pooler.dense.weight']\n",
      "You should probably TRAIN this model on a down-stream task to be able to use it for predictions and inference.\n"
     ]
    }
   ],
   "source": [
    "model_name = hyperparameters_roberta['model_name']\n",
    "dropout = hyperparameters_roberta['dropout']\n",
    "learning_rate = hyperparameters_roberta['learning_rate']\n",
    "num_epochs = hyperparameters_roberta['epochs']\n",
    "patience = hyperparameters_roberta['patience']\n",
    "min_delta = hyperparameters_roberta['min_delta']\n",
    "\n",
    "device = torch.device(\"cuda\" if torch.cuda.is_available() else \"cpu\")\n",
    "print(f\"Using device: {device}\")\n",
    "\n",
    "# Istanziamo il modello\n",
    "model = AlBERToBinaryClassifier(model_name=model_name, dropout=dropout).to(device)\n",
    "\n",
    "# Definiamo la loss\n",
    "loss = nn.BCELoss()\n",
    "\n",
    "# Definiamo l'ottimizzatore\n",
    "optimizer = AdamW(model.parameters(), lr=learning_rate, weight_decay=0.01)\n",
    "\n",
    "# Definiamo l'early stopping\n",
    "early_stopping = EarlyStopping(patience=patience, min_delta=min_delta)"
   ]
  },
  {
   "cell_type": "code",
   "execution_count": 35,
   "id": "bb69bd72",
   "metadata": {},
   "outputs": [
    {
     "data": {
      "text/plain": [
       "==========================================================================================\n",
       "Layer (type:depth-idx)                                            Param #\n",
       "==========================================================================================\n",
       "AlBERToBinaryClassifier                                           --\n",
       "├─RobertaModel: 1-1                                               --\n",
       "│    └─RobertaEmbeddings: 2-1                                     --\n",
       "│    │    └─Embedding: 3-1                                        38,603,520\n",
       "│    │    └─Embedding: 3-2                                        394,752\n",
       "│    │    └─Embedding: 3-3                                        768\n",
       "│    │    └─LayerNorm: 3-4                                        1,536\n",
       "│    │    └─Dropout: 3-5                                          --\n",
       "│    └─RobertaEncoder: 2-2                                        --\n",
       "│    │    └─ModuleList: 3-6                                       85,054,464\n",
       "│    └─RobertaPooler: 2-3                                         --\n",
       "│    │    └─Linear: 3-7                                           590,592\n",
       "│    │    └─Tanh: 3-8                                             --\n",
       "├─Dropout: 1-2                                                    --\n",
       "├─Linear: 1-3                                                     49,216\n",
       "├─Linear: 1-4                                                     65\n",
       "├─Sigmoid: 1-5                                                    --\n",
       "==========================================================================================\n",
       "Total params: 124,694,913\n",
       "Trainable params: 124,694,913\n",
       "Non-trainable params: 0\n",
       "=========================================================================================="
      ]
     },
     "execution_count": 35,
     "metadata": {},
     "output_type": "execute_result"
    }
   ],
   "source": [
    "# Stampiamo il sommario del modello\n",
    "summary(model)"
   ]
  },
  {
   "cell_type": "code",
   "execution_count": 36,
   "id": "ce67efa0",
   "metadata": {},
   "outputs": [
    {
     "name": "stdout",
     "output_type": "stream",
     "text": [
      "\n",
      "Epoch 1/100\n"
     ]
    },
    {
     "name": "stderr",
     "output_type": "stream",
     "text": [
      "Training: 100%|██████████| 358/358 [00:45<00:00,  7.87it/s]\n",
      "Validation: 100%|██████████| 60/60 [00:02<00:00, 29.04it/s]\n"
     ]
    },
    {
     "name": "stdout",
     "output_type": "stream",
     "text": [
      "Train Loss: 0.6121, Train Accuracy: 0.6392, Train F1: 0.6391\n",
      "Validation Loss: 0.5637, Validation Accuracy: 0.6995, Validation F1: 0.6964\n",
      "New best F1 score: 0.6964\n",
      "\n",
      "Epoch 2/100\n"
     ]
    },
    {
     "name": "stderr",
     "output_type": "stream",
     "text": [
      "Training: 100%|██████████| 358/358 [00:45<00:00,  7.83it/s]\n",
      "Validation: 100%|██████████| 60/60 [00:02<00:00, 28.80it/s]\n"
     ]
    },
    {
     "name": "stdout",
     "output_type": "stream",
     "text": [
      "Train Loss: 0.3779, Train Accuracy: 0.8347, Train F1: 0.8347\n",
      "Validation Loss: 0.7141, Validation Accuracy: 0.6984, Validation F1: 0.6968\n",
      "New best F1 score: 0.6968\n",
      "Nessun miglioramento nella validation loss. Contatore: 1/7\n",
      "\n",
      "Epoch 3/100\n"
     ]
    },
    {
     "name": "stderr",
     "output_type": "stream",
     "text": [
      "Training: 100%|██████████| 358/358 [00:46<00:00,  7.74it/s]\n",
      "Validation: 100%|██████████| 60/60 [00:02<00:00, 29.21it/s]\n"
     ]
    },
    {
     "name": "stdout",
     "output_type": "stream",
     "text": [
      "Train Loss: 0.1717, Train Accuracy: 0.9369, Train F1: 0.9369\n",
      "Validation Loss: 0.8419, Validation Accuracy: 0.7204, Validation F1: 0.7201\n",
      "New best F1 score: 0.7201\n",
      "Nessun miglioramento nella validation loss. Contatore: 2/7\n",
      "\n",
      "Epoch 4/100\n"
     ]
    },
    {
     "name": "stderr",
     "output_type": "stream",
     "text": [
      "Training: 100%|██████████| 358/358 [00:45<00:00,  7.86it/s]\n",
      "Validation: 100%|██████████| 60/60 [00:02<00:00, 28.60it/s]\n"
     ]
    },
    {
     "name": "stdout",
     "output_type": "stream",
     "text": [
      "Train Loss: 0.0781, Train Accuracy: 0.9722, Train F1: 0.9722\n",
      "Validation Loss: 1.1211, Validation Accuracy: 0.7141, Validation F1: 0.7141\n",
      "Nessun miglioramento nella validation loss. Contatore: 3/7\n",
      "\n",
      "Epoch 5/100\n"
     ]
    },
    {
     "name": "stderr",
     "output_type": "stream",
     "text": [
      "Training: 100%|██████████| 358/358 [00:46<00:00,  7.68it/s]\n",
      "Validation: 100%|██████████| 60/60 [00:02<00:00, 28.19it/s]\n"
     ]
    },
    {
     "name": "stdout",
     "output_type": "stream",
     "text": [
      "Train Loss: 0.0497, Train Accuracy: 0.9834, Train F1: 0.9834\n",
      "Validation Loss: 1.3032, Validation Accuracy: 0.6806, Validation F1: 0.6785\n",
      "Nessun miglioramento nella validation loss. Contatore: 4/7\n",
      "\n",
      "Epoch 6/100\n"
     ]
    },
    {
     "name": "stderr",
     "output_type": "stream",
     "text": [
      "Training: 100%|██████████| 358/358 [00:44<00:00,  7.97it/s]\n",
      "Validation: 100%|██████████| 60/60 [00:02<00:00, 29.86it/s]\n"
     ]
    },
    {
     "name": "stdout",
     "output_type": "stream",
     "text": [
      "Train Loss: 0.0392, Train Accuracy: 0.9872, Train F1: 0.9872\n",
      "Validation Loss: 1.3804, Validation Accuracy: 0.6901, Validation F1: 0.6889\n",
      "Nessun miglioramento nella validation loss. Contatore: 5/7\n",
      "\n",
      "Epoch 7/100\n"
     ]
    },
    {
     "name": "stderr",
     "output_type": "stream",
     "text": [
      "Training: 100%|██████████| 358/358 [00:44<00:00,  7.97it/s]\n",
      "Validation: 100%|██████████| 60/60 [00:02<00:00, 29.74it/s]\n"
     ]
    },
    {
     "name": "stdout",
     "output_type": "stream",
     "text": [
      "Train Loss: 0.0279, Train Accuracy: 0.9911, Train F1: 0.9911\n",
      "Validation Loss: 1.4264, Validation Accuracy: 0.6932, Validation F1: 0.6918\n",
      "Nessun miglioramento nella validation loss. Contatore: 6/7\n",
      "\n",
      "Epoch 8/100\n"
     ]
    },
    {
     "name": "stderr",
     "output_type": "stream",
     "text": [
      "Training: 100%|██████████| 358/358 [00:45<00:00,  7.90it/s]\n",
      "Validation: 100%|██████████| 60/60 [00:02<00:00, 28.62it/s]\n"
     ]
    },
    {
     "name": "stdout",
     "output_type": "stream",
     "text": [
      "Train Loss: 0.0317, Train Accuracy: 0.9888, Train F1: 0.9888\n",
      "Validation Loss: 1.3130, Validation Accuracy: 0.7005, Validation F1: 0.6994\n",
      "Nessun miglioramento nella validation loss. Contatore: 7/7\n",
      "Early stopping attivato.\n",
      "Early stopping at epoch 8\n"
     ]
    },
    {
     "data": {
      "image/png": "[encoded data removed]",
      "text/plain": [
       "<Figure size 1200x600 with 1 Axes>"
      ]
     },
     "metadata": {},
     "output_type": "display_data"
    },
    {
     "data": {
      "text/plain": [
       "<Figure size 640x480 with 0 Axes>"
      ]
     },
     "metadata": {},
     "output_type": "display_data"
    },
    {
     "data": {
      "image/png": "[encoded data removed]",
      "text/plain": [
       "<Figure size 1200x600 with 1 Axes>"
      ]
     },
     "metadata": {},
     "output_type": "display_data"
    },
    {
     "data": {
      "text/plain": [
       "<Figure size 640x480 with 0 Axes>"
      ]
     },
     "metadata": {},
     "output_type": "display_data"
    },
    {
     "data": {
      "image/png": "[encoded data removed]",
      "text/plain": [
       "<Figure size 1200x600 with 1 Axes>"
      ]
     },
     "metadata": {},
     "output_type": "display_data"
    },
    {
     "data": {
      "text/plain": [
       "<Figure size 640x480 with 0 Axes>"
      ]
     },
     "metadata": {},
     "output_type": "display_data"
    },
    {
     "data": {
      "image/png": "[encoded data removed]",
      "text/plain": [
       "<Figure size 800x600 with 2 Axes>"
      ]
     },
     "metadata": {},
     "output_type": "display_data"
    },
    {
     "name": "stdout",
     "output_type": "stream",
     "text": [
      "Best F1 score: 0.7201\n"
     ]
    }
   ],
   "source": [
    "# Avviamo l'addestramento e la valutazione\n",
    "train_and_evaluate(model, train_dataloader, val_dataloader, optimizer, loss, num_epochs, device, early_stopping)"
   ]
  },
  {
   "cell_type": "markdown",
   "id": "b5e43090",
   "metadata": {},
   "source": [
    "## Testing del modello"
   ]
  },
  {
   "cell_type": "markdown",
   "id": "bb453ac7",
   "metadata": {},
   "source": [
    "Creiamo una funzione di dataloader differente poiché per quanto concerne il dataset di test non abbiamo a disposizione le labels. Inoltre, dovendo stampare le predizioni mettiamo il `batch_size` a 1 in quanto dobbiamo testare il modello su ogni singolo tweet."
   ]
  },
  {
   "cell_type": "code",
   "execution_count": 31,
   "id": "cc94aec5",
   "metadata": {},
   "outputs": [],
   "source": [
    "def create_test_dataloader(dataset):\n",
    "    \"\"\"Funzione per creare un dataloader a partire dal dataset di test.\"\"\"\n",
    "\n",
    "    def collate_fn(examples):\n",
    "        \"\"\"Collate function per il dataloader di test.\"\"\"\n",
    "        return {\n",
    "            'input_ids': torch.tensor([example['input_ids'] for example in examples]),\n",
    "            'attention_mask': torch.tensor([example['attention_mask'] for example in examples]),\n",
    "        }\n",
    "\n",
    "    # Creiamo il dataloader\n",
    "    dataloader = DataLoader(dataset, batch_size=1, collate_fn=collate_fn, shuffle=False)\n",
    "    return dataloader\n",
    "\n",
    "# Creiamo il dataloader per il test set\n",
    "test_dataloader = create_test_dataloader(test_dataset)"
   ]
  },
  {
   "cell_type": "code",
   "execution_count": 32,
   "id": "01740e88",
   "metadata": {},
   "outputs": [],
   "source": [
    "def test_classifier(model, test_dataloader, device):\n",
    "    \"\"\"Funzione per il testing del modello.\"\"\"\n",
    "\n",
    "    # Mettiamo il modello in modalità di eval\n",
    "    model.eval()\n",
    "\n",
    "    # Creiamo una lista con le predizioni\n",
    "    all_preds = []\n",
    "\n",
    "    # Iteriamo il dataloader\n",
    "    with torch.no_grad():\n",
    "        for batch in tqdm(test_dataloader, total=len(test_dataloader), desc=\"Testing\"):\n",
    "            # Estraiamo i dati dal batch\n",
    "            input_ids = batch[\"input_ids\"].to(device)\n",
    "            attention_mask = batch[\"attention_mask\"].to(device)\n",
    "            # Passiamo il batch al modello\n",
    "            outputs = model(input_ids, attention_mask)\n",
    "            # Predizioni\n",
    "            preds = (outputs.squeeze(1) > 0.5).long()\n",
    "            # Aggiungiamo le predizioni corrette e labels totali\n",
    "            all_preds.extend(preds.cpu().numpy())\n",
    "\n",
    "    return all_preds"
   ]
  },
  {
   "cell_type": "code",
   "execution_count": 33,
   "id": "1573af1c",
   "metadata": {},
   "outputs": [
    {
     "name": "stderr",
     "output_type": "stream",
     "text": [
      "Some weights of RobertaModel were not initialized from the model checkpoint at roberta-base and are newly initialized: ['pooler.dense.bias', 'pooler.dense.weight']\n",
      "You should probably TRAIN this model on a down-stream task to be able to use it for predictions and inference.\n",
      "Testing: 100%|██████████| 784/784 [00:08<00:00, 96.91it/s]"
     ]
    },
    {
     "name": "stdout",
     "output_type": "stream",
     "text": [
      "Predizioni sul test set: [np.int64(0), np.int64(1), np.int64(0), np.int64(1), np.int64(0), np.int64(1), np.int64(1), np.int64(0), np.int64(0), np.int64(1)]...\n"
     ]
    },
    {
     "name": "stderr",
     "output_type": "stream",
     "text": [
      "\n"
     ]
    }
   ],
   "source": [
    "# Carica il miglior modello\n",
    "model = AlBERToBinaryClassifier(model_name=model_name, dropout=dropout).to(device)\n",
    "model.load_state_dict(torch.load(\"best_model_irony.pth\"))\n",
    "\n",
    "# Genera predizioni sul test set\n",
    "test_preds = test_classifier(model, test_dataloader, device)\n",
    "print(f\"Predizioni sul test set: {test_preds[:10]}...\")\n",
    "\n",
    "# Salva in formato CSV\n",
    "pd.DataFrame(test_preds, columns=[\"prediction\"]).to_csv(\"irony_predictions.csv\", index=False)"
   ]
  }
 ],
 "metadata": {
  "kernelspec": {
   "display_name": "Python 3",
   "language": "python",
   "name": "python3"
  },
  "language_info": {
   "codemirror_mode": {
    "name": "ipython",
    "version": 3
   },
   "file_extension": ".py",
   "mimetype": "text/x-python",
   "name": "python",
   "nbconvert_exporter": "python",
   "pygments_lexer": "ipython3",
   "version": "3.10.10"
  }
 },
 "nbformat": 4,
 "nbformat_minor": 5
}
